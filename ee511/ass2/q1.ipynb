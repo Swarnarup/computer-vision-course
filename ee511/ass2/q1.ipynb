{
 "cells": [
  {
   "cell_type": "code",
   "execution_count": 3,
   "metadata": {},
   "outputs": [],
   "source": [
    "import pandas as pd\n",
    "import numpy as np\n",
    "import matplotlib.pyplot as plt"
   ]
  },
  {
   "cell_type": "code",
   "execution_count": null,
   "metadata": {},
   "outputs": [],
   "source": []
  },
  {
   "cell_type": "code",
   "execution_count": 1,
   "metadata": {},
   "outputs": [],
   "source": [
    "def eigen_decompose(A,n):\n",
    "\n",
    "    x = np.ones(A.shape[0])\n",
    "\n",
    "    e_vals = []\n",
    "    e_vecs = []\n",
    "    for i in range(n):\n",
    "        l = 1\n",
    "        iter = 100\n",
    "        for j in range(iter):\n",
    "            x = A@x / np.linalg.norm(A@x)\n",
    "            #print(x)\n",
    "            l = (A@x)@x\n",
    "\n",
    "        #print(l)\n",
    "        #print(str(i)+\" th dominant eigmap found\")\n",
    "\n",
    "        e_vals.append(np.round(l,decimals = 3))\n",
    "        x1 = np.array([np.round(i,decimals = 3) for i in x])\n",
    "        e_vecs.append(x1)\n",
    "\n",
    "        ev = np.copy(x).reshape((A.shape[0],1))\n",
    "\n",
    "        A = A - e_vals[i]*(ev @ ev.T)\n",
    "\n",
    "        x = np.ones(A.shape[0])\n",
    "    \n",
    "    \n",
    "    return e_vals,e_vecs\n",
    "\n",
    "\n",
    "\n",
    "def SVD(x):\n",
    "    U = np.zeros((x.shape[0],x.shape[0]))\n",
    "    S = np.zeros((x.shape[0],x.shape[1]))\n",
    "    V = np.zeros((x.shape[1],x.shape[1]))\n",
    "    \n",
    "    x_xt = x@x.T\n",
    "    xt_x = x.T@x\n",
    "    e_vals_x,e_vecs_x = eigen_decompose(x_xt,x.shape[0])\n",
    "\n",
    "    e_vals_xt,e_vecs_xt = eigen_decompose(xt_x,x.shape[1])\n",
    "\n",
    "    for i in range(min(x.shape)):\n",
    "        S[i,i] = e_vals_x[i]**0.5\n",
    "    \n",
    "    for i in range(len(e_vals_x)):\n",
    "        U[:,i] = e_vecs_x[i]\n",
    "    \n",
    "    for i in range(len(e_vals_xt)):\n",
    "        V[i,:] = e_vecs_xt[i]\n",
    "    \n",
    "    return U,S,V\n",
    "\n",
    "\n",
    "\n",
    "\n",
    "\n",
    "\n",
    "def reconstruct(U,S,V,k):\n",
    "    A_hat = U[:,:k] @ S[:k,:k] @ V.T[:k,]\n",
    "\n",
    "    return A_hat\n",
    "\n",
    "\n",
    "\n",
    "\n",
    "def FrobeniusNorm(A):\n",
    "    \n",
    "    ans = 0\n",
    "    \n",
    "    for x in A:\n",
    "        for y in x:\n",
    "            ans += y**2\n",
    "    \n",
    "    return ans ** 0.5\n"
   ]
  },
  {
   "cell_type": "code",
   "execution_count": 2,
   "metadata": {},
   "outputs": [
    {
     "ename": "NameError",
     "evalue": "name 'pd' is not defined",
     "output_type": "error",
     "traceback": [
      "\u001b[1;31m---------------------------------------------------------------------------\u001b[0m",
      "\u001b[1;31mNameError\u001b[0m                                 Traceback (most recent call last)",
      "\u001b[1;32mc:\\Users\\Swarnarup\\Desktop\\ee511\\ass2\\q1.ipynb Cell 4\u001b[0m line \u001b[0;36m1\n\u001b[1;32m----> <a href='vscode-notebook-cell:/c%3A/Users/Swarnarup/Desktop/ee511/ass2/q1.ipynb#W3sZmlsZQ%3D%3D?line=0'>1</a>\u001b[0m df \u001b[39m=\u001b[39m pd\u001b[39m.\u001b[39mread_csv(\u001b[39m\"\u001b[39m\u001b[39mtrain.csv\u001b[39m\u001b[39m\"\u001b[39m)\n\u001b[0;32m      <a href='vscode-notebook-cell:/c%3A/Users/Swarnarup/Desktop/ee511/ass2/q1.ipynb#W3sZmlsZQ%3D%3D?line=2'>3</a>\u001b[0m df\u001b[39m.\u001b[39mhead()\n",
      "\u001b[1;31mNameError\u001b[0m: name 'pd' is not defined"
     ]
    }
   ],
   "source": [
    "df = pd.read_csv(\"train.csv\")\n",
    "\n",
    "df.head()"
   ]
  },
  {
   "cell_type": "code",
   "execution_count": 3,
   "metadata": {},
   "outputs": [
    {
     "ename": "NameError",
     "evalue": "name 'df' is not defined",
     "output_type": "error",
     "traceback": [
      "\u001b[1;31m---------------------------------------------------------------------------\u001b[0m",
      "\u001b[1;31mNameError\u001b[0m                                 Traceback (most recent call last)",
      "\u001b[1;32mc:\\Users\\Swarnarup\\Desktop\\ee511\\ass2\\q1.ipynb Cell 5\u001b[0m line \u001b[0;36m1\n\u001b[1;32m----> <a href='vscode-notebook-cell:/c%3A/Users/Swarnarup/Desktop/ee511/ass2/q1.ipynb#W4sZmlsZQ%3D%3D?line=0'>1</a>\u001b[0m X \u001b[39m=\u001b[39m df\u001b[39m.\u001b[39mvalues[:\u001b[39m1000\u001b[39m,\u001b[39m2\u001b[39m:]\n\u001b[0;32m      <a href='vscode-notebook-cell:/c%3A/Users/Swarnarup/Desktop/ee511/ass2/q1.ipynb#W4sZmlsZQ%3D%3D?line=1'>2</a>\u001b[0m k \u001b[39m=\u001b[39m \u001b[39m256\u001b[39m\n\u001b[0;32m      <a href='vscode-notebook-cell:/c%3A/Users/Swarnarup/Desktop/ee511/ass2/q1.ipynb#W4sZmlsZQ%3D%3D?line=2'>3</a>\u001b[0m U_X,S_X,V_X \u001b[39m=\u001b[39m SVD(X)\n",
      "\u001b[1;31mNameError\u001b[0m: name 'df' is not defined"
     ]
    }
   ],
   "source": [
    "X = df.values[:1000,2:]\n",
    "k = 256\n",
    "U_X,S_X,V_X = SVD(X)"
   ]
  },
  {
   "cell_type": "code",
   "execution_count": 9,
   "metadata": {},
   "outputs": [],
   "source": [
    "error_l = []\n",
    "for i in range(1,k+1,5):\n",
    "    X_hat = reconstruct(U_X,S_X,V_X,i)\n",
    "    error_l.append(FrobeniusNorm(X_hat-X))"
   ]
  },
  {
   "cell_type": "code",
   "execution_count": 10,
   "metadata": {},
   "outputs": [
    {
     "data": {
      "text/plain": [
       "Text(0.5, 1.0, 'reconstruction error vs k')"
      ]
     },
     "execution_count": 10,
     "metadata": {},
     "output_type": "execute_result"
    },
    {
     "data": {
      "image/png": "[encoded data removed]",
      "text/plain": [
       "<Figure size 640x480 with 1 Axes>"
      ]
     },
     "metadata": {},
     "output_type": "display_data"
    }
   ],
   "source": [
    "plt.plot([x for x in range(1,k+1,5)],error_l,marker = 'o', markerfacecolor = 'yellow', color = 'black')\n",
    "plt.xlabel(\"k\")\n",
    "plt.ylabel(\"reconstruction error\")\n",
    "plt.title(\"reconstruction error vs k\")"
   ]
  },
  {
   "cell_type": "code",
   "execution_count": null,
   "metadata": {},
   "outputs": [],
   "source": []
  }
 ],
 "metadata": {
  "kernelspec": {
   "display_name": "Python 3",
   "language": "python",
   "name": "python3"
  },
  "language_info": {
   "codemirror_mode": {
    "name": "ipython",
    "version": 3
   },
   "file_extension": ".py",
   "mimetype": "text/x-python",
   "name": "python",
   "nbconvert_exporter": "python",
   "pygments_lexer": "ipython3",
   "version": "3.10.8"
  }
 },
 "nbformat": 4,
 "nbformat_minor": 2
}
