{
 "cells": [
  {
   "cell_type": "code",
   "execution_count": 3,
   "metadata": {},
   "outputs": [],
   "source": [
    "from sklearn.model_selection import StratifiedShuffleSplit\n",
    "import matplotlib.pyplot as plt\n",
    "import os\n",
    "import numpy as np\n",
    "import pandas as pd\n",
    "from pathlib import Path\n",
    "import cv2 "
   ]
  },
  {
   "cell_type": "code",
   "execution_count": 4,
   "metadata": {},
   "outputs": [],
   "source": [
    "# imgs = os.listdir(os.path.join(data_dir,'Andy_Roddick'))\n",
    "# # Visualizing the histograms \n",
    "# for img in imgs:\n",
    "#     image = cv2.imread(os.path.join(os.path.join(data_dir,'Andy_Roddick'),img))\n",
    "    \n",
    "#     imgLBP    = LBPimg(image)\n",
    "#     vecLBP = imgLBP.flatten()\n",
    "\n",
    "#     fig = plt.figure(figsize=(20,8))\n",
    "#     ax = fig.add_subplot(1,3,1)\n",
    "#     ax.imshow(image)\n",
    "#     ax.set_title(\"gray scale image\")\n",
    "#     ax = fig.add_subplot(1,3,2)\n",
    "#     ax.imshow(imgLBP,cmap=\"gray\")\n",
    "#     ax.set_title(\"LBP converted image\")\n",
    "#     ax = fig.add_subplot(1,3,3)\n",
    "#     freq,lbp, _ = ax.hist(vecLBP,bins=2**8)\n",
    "#     ax.set_ylim(0,30000)\n",
    "#     lbp = lbp[:-1]\n",
    "#     ax.set_title(\"LBP histogram\")\n",
    "#     plt.show()\n",
    "\n",
    "\n"
   ]
  },
  {
   "cell_type": "code",
   "execution_count": 5,
   "metadata": {},
   "outputs": [],
   "source": [
    "def lbp_algo(img):\n",
    "    gray = cv2.cvtColor(img, cv2.COLOR_BGR2GRAY)\n",
    "    img_lbp = np.zeros_like(gray)\n",
    "\n",
    "    nn = 3 \n",
    "    for ih in range(0,img.shape[0] - nn):\n",
    "        for iw in range(0,img.shape[1] - nn):\n",
    "            crp = gray[ih:ih+nn,iw:iw+nn]\n",
    "            cntr = crp[1,1]\n",
    "            imm = (crp >= cntr)*1.0\n",
    "            imm_vec = imm.T.flatten()\n",
    "            imm_vec = np.delete(imm_vec,4)\n",
    "            pos_imm_vec = np.where(imm_vec)[0]\n",
    "            if len(pos_imm_vec) >= 1:\n",
    "                num = np.sum(2**pos_imm_vec)\n",
    "            else:\n",
    "                num = 0\n",
    "            img_lbp[ih+1,iw+1] = num\n",
    "    return img_lbp"
   ]
  },
  {
   "cell_type": "code",
   "execution_count": 6,
   "metadata": {},
   "outputs": [],
   "source": [
    "data_dir = \"test1\""
   ]
  },
  {
   "cell_type": "code",
   "execution_count": 9,
   "metadata": {},
   "outputs": [
    {
     "ename": "ValueError",
     "evalue": "The least populated class in y has only 1 member, which is too few. The minimum number of groups for any class cannot be less than 2.",
     "output_type": "error",
     "traceback": [
      "\u001b[1;31m---------------------------------------------------------------------------\u001b[0m",
      "\u001b[1;31mValueError\u001b[0m                                Traceback (most recent call last)",
      "\u001b[1;32mc:\\Users\\Swarnarup\\Desktop\\ee511\\ass2\\q3.ipynb Cell 5\u001b[0m line \u001b[0;36m2\n\u001b[0;32m     <a href='vscode-notebook-cell:/c%3A/Users/Swarnarup/Desktop/ee511/ass2/q3.ipynb#W2sZmlsZQ%3D%3D?line=17'>18</a>\u001b[0m y \u001b[39m=\u001b[39m np\u001b[39m.\u001b[39marray(y)\n\u001b[0;32m     <a href='vscode-notebook-cell:/c%3A/Users/Swarnarup/Desktop/ee511/ass2/q3.ipynb#W2sZmlsZQ%3D%3D?line=18'>19</a>\u001b[0m suf_splt \u001b[39m=\u001b[39m StratifiedShuffleSplit(n_splits\u001b[39m=\u001b[39m\u001b[39m1\u001b[39m, test_size\u001b[39m=\u001b[39m\u001b[39m0.2\u001b[39m, random_state \u001b[39m=\u001b[39m \u001b[39m1\u001b[39m)\n\u001b[1;32m---> <a href='vscode-notebook-cell:/c%3A/Users/Swarnarup/Desktop/ee511/ass2/q3.ipynb#W2sZmlsZQ%3D%3D?line=20'>21</a>\u001b[0m \u001b[39mfor\u001b[39;00m train_index, test_index \u001b[39min\u001b[39;00m suf_splt\u001b[39m.\u001b[39msplit(X, y):\n\u001b[0;32m     <a href='vscode-notebook-cell:/c%3A/Users/Swarnarup/Desktop/ee511/ass2/q3.ipynb#W2sZmlsZQ%3D%3D?line=21'>22</a>\u001b[0m     X_train, X_test \u001b[39m=\u001b[39m X[train_index], X[test_index]\n\u001b[0;32m     <a href='vscode-notebook-cell:/c%3A/Users/Swarnarup/Desktop/ee511/ass2/q3.ipynb#W2sZmlsZQ%3D%3D?line=22'>23</a>\u001b[0m     y_train, y_test \u001b[39m=\u001b[39m y[train_index], y[test_index]\n",
      "File \u001b[1;32mc:\\Users\\Swarnarup\\AppData\\Local\\Programs\\Python\\Python310\\lib\\site-packages\\sklearn\\model_selection\\_split.py:1746\u001b[0m, in \u001b[0;36mBaseShuffleSplit.split\u001b[1;34m(self, X, y, groups)\u001b[0m\n\u001b[0;32m   1716\u001b[0m \u001b[39m\u001b[39m\u001b[39m\"\"\"Generate indices to split data into training and test set.\u001b[39;00m\n\u001b[0;32m   1717\u001b[0m \n\u001b[0;32m   1718\u001b[0m \u001b[39mParameters\u001b[39;00m\n\u001b[1;32m   (...)\u001b[0m\n\u001b[0;32m   1743\u001b[0m \u001b[39mto an integer.\u001b[39;00m\n\u001b[0;32m   1744\u001b[0m \u001b[39m\"\"\"\u001b[39;00m\n\u001b[0;32m   1745\u001b[0m X, y, groups \u001b[39m=\u001b[39m indexable(X, y, groups)\n\u001b[1;32m-> 1746\u001b[0m \u001b[39mfor\u001b[39;00m train, test \u001b[39min\u001b[39;00m \u001b[39mself\u001b[39m\u001b[39m.\u001b[39m_iter_indices(X, y, groups):\n\u001b[0;32m   1747\u001b[0m     \u001b[39myield\u001b[39;00m train, test\n",
      "File \u001b[1;32mc:\\Users\\Swarnarup\\AppData\\Local\\Programs\\Python\\Python310\\lib\\site-packages\\sklearn\\model_selection\\_split.py:2147\u001b[0m, in \u001b[0;36mStratifiedShuffleSplit._iter_indices\u001b[1;34m(self, X, y, groups)\u001b[0m\n\u001b[0;32m   2145\u001b[0m class_counts \u001b[39m=\u001b[39m np\u001b[39m.\u001b[39mbincount(y_indices)\n\u001b[0;32m   2146\u001b[0m \u001b[39mif\u001b[39;00m np\u001b[39m.\u001b[39mmin(class_counts) \u001b[39m<\u001b[39m \u001b[39m2\u001b[39m:\n\u001b[1;32m-> 2147\u001b[0m     \u001b[39mraise\u001b[39;00m \u001b[39mValueError\u001b[39;00m(\n\u001b[0;32m   2148\u001b[0m         \u001b[39m\"\u001b[39m\u001b[39mThe least populated class in y has only 1\u001b[39m\u001b[39m\"\u001b[39m\n\u001b[0;32m   2149\u001b[0m         \u001b[39m\"\u001b[39m\u001b[39m member, which is too few. The minimum\u001b[39m\u001b[39m\"\u001b[39m\n\u001b[0;32m   2150\u001b[0m         \u001b[39m\"\u001b[39m\u001b[39m number of groups for any class cannot\u001b[39m\u001b[39m\"\u001b[39m\n\u001b[0;32m   2151\u001b[0m         \u001b[39m\"\u001b[39m\u001b[39m be less than 2.\u001b[39m\u001b[39m\"\u001b[39m\n\u001b[0;32m   2152\u001b[0m     )\n\u001b[0;32m   2154\u001b[0m \u001b[39mif\u001b[39;00m n_train \u001b[39m<\u001b[39m n_classes:\n\u001b[0;32m   2155\u001b[0m     \u001b[39mraise\u001b[39;00m \u001b[39mValueError\u001b[39;00m(\n\u001b[0;32m   2156\u001b[0m         \u001b[39m\"\u001b[39m\u001b[39mThe train_size = \u001b[39m\u001b[39m%d\u001b[39;00m\u001b[39m should be greater or \u001b[39m\u001b[39m\"\u001b[39m\n\u001b[0;32m   2157\u001b[0m         \u001b[39m\"\u001b[39m\u001b[39mequal to the number of classes = \u001b[39m\u001b[39m%d\u001b[39;00m\u001b[39m\"\u001b[39m \u001b[39m%\u001b[39m (n_train, n_classes)\n\u001b[0;32m   2158\u001b[0m     )\n",
      "\u001b[1;31mValueError\u001b[0m: The least populated class in y has only 1 member, which is too few. The minimum number of groups for any class cannot be less than 2."
     ]
    },
    {
     "data": {
      "image/png": "[encoded data removed]",
      "text/plain": [
       "<Figure size 640x480 with 1 Axes>"
      ]
     },
     "metadata": {},
     "output_type": "display_data"
    }
   ],
   "source": [
    "data = pd.DataFrame(columns=['path','class'])\n",
    "\n",
    "for folder in os.listdir(data_dir):\n",
    "    for img in os.listdir(os.path.join(data_dir,folder)):\n",
    "        data.loc[len(data.index)] = [os.path.join(folder,img),folder] \n",
    "        \n",
    "X = np.ndarray((len(data.index),256))\n",
    "y = []\n",
    "\n",
    "for i in range(len(data.index)):\n",
    "    img = cv2.imread(os.path.join(data_dir,data['path'][i]))\n",
    "    umg_lbp = lbp_algo(img)\n",
    "    vec_lbp = umg_lbp.flatten()\n",
    "    freq,_,_=plt.hist(vec_lbp,bins=2**8)\n",
    "    X[i] = freq\n",
    "    y.append(data['class'][i])\n",
    "    \n",
    "y = np.array(y)\n",
    "suf_splt = StratifiedShuffleSplit(n_splits=1, test_size=0.2, random_state = 1)\n",
    "\n",
    "for train_index, test_index in suf_splt.split(X, y):\n",
    "    X_train, X_test = X[train_index], X[test_index]\n",
    "    y_train, y_test = y[train_index], y[test_index]\n",
    "    \n",
    "for train_index, val_index in suf_splt.split(X_train, y_train):\n",
    "    X_train, X_val = X_train[train_index], X_train[val_index]\n",
    "    y_train, y_val = y_train[train_index], y_train[val_index]\n",
    "\n",
    "\n",
    "df_sv = pd.DataFrame(X_train)\n",
    "df_sv.to_csv(\"train.csv\")\n",
    "\n",
    "df_sv = pd.DataFrame(X_val)\n",
    "df_sv.to_csv(\"X_val.csv\")\n",
    "\n",
    "df_sv = pd.DataFrame(X_test)\n",
    "df_sv.to_csv(\"X_test.csv\")\n",
    "\n",
    "df_sv = pd.DataFrame(y_train)\n",
    "df_sv.to_csv(\"y_train.csv\")\n",
    "\n",
    "df_sv = pd.DataFrame(y_val)\n",
    "df_sv.to_csv(\"y_val.csv\")\n",
    "\n",
    "df_sv = pd.DataFrame(y_test)\n",
    "df_sv.to_csv(\"y_test.csv\")"
   ]
  },
  {
   "cell_type": "code",
   "execution_count": null,
   "metadata": {},
   "outputs": [],
   "source": []
  }
 ],
 "metadata": {
  "kernelspec": {
   "display_name": "Python 3",
   "language": "python",
   "name": "python3"
  },
  "language_info": {
   "codemirror_mode": {
    "name": "ipython",
    "version": 3
   },
   "file_extension": ".py",
   "mimetype": "text/x-python",
   "name": "python",
   "nbconvert_exporter": "python",
   "pygments_lexer": "ipython3",
   "version": "3.10.8"
  }
 },
 "nbformat": 4,
 "nbformat_minor": 2
}
